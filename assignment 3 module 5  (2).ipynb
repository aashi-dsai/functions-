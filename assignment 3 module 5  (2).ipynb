{
 "cells": [
  {
   "cell_type": "code",
   "execution_count": null,
   "id": "51cea0a2-3145-40a1-bb53-610892440cb0",
   "metadata": {},
   "outputs": [],
   "source": [
    "            ########################### A_S_S_I_G_N_M_E_N_T - 3 / M_O_D_U_L_E-5 ############################"
   ]
  },
  {
   "cell_type": "code",
   "execution_count": null,
   "id": "98a7a9c6-86ef-4c91-9303-bb347ed24637",
   "metadata": {},
   "outputs": [],
   "source": [
    "                                       ############# F_U_N_C_T_I_O_N_S ##############                  BY - AASHI GAUTAM "
   ]
  },
  {
   "cell_type": "code",
   "execution_count": null,
   "id": "506af60f-119a-4df5-a749-64468bf4c359",
   "metadata": {},
   "outputs": [],
   "source": [
    "            ********************************** T_H_E_O_R_Y    Q_U_E_S_T_I_O_N_S ************************************"
   ]
  },
  {
   "cell_type": "raw",
   "id": "6a579a60-5d58-442a-9179-069f82516f53",
   "metadata": {},
   "source": [
    "1-What is the difference between a function and a method in Python?\n",
    "ans-Function: A block of reusable code, defined using def, independent of any object.\n",
    " Method: A function associated with an object or class (called using dot notation)."
   ]
  },
  {
   "cell_type": "code",
   "execution_count": 26,
   "id": "486434c8-5703-428e-9e67-acc5652c2281",
   "metadata": {},
   "outputs": [
    {
     "data": {
      "text/plain": [
       "'HELLO'"
      ]
     },
     "execution_count": 26,
     "metadata": {},
     "output_type": "execute_result"
    }
   ],
   "source": [
    "def greet():\n",
    "    print(\"Hello\")\n",
    "\"hello\".upper()  #upper() is a method."
   ]
  },
  {
   "cell_type": "raw",
   "id": "2af18c76-c392-44e2-a379-c54993ed0ad8",
   "metadata": {},
   "source": [
    "2- Explain the concept of function arguments and parameters in Python?\n",
    "ans- Parameter: Variable in the function definition.\n",
    "     Argument: Value passed to the function when calling it."
   ]
  },
  {
   "cell_type": "code",
   "execution_count": 25,
   "id": "04b79b86-32a0-4676-93d9-b453a20289b4",
   "metadata": {},
   "outputs": [
    {
     "data": {
      "text/plain": [
       "8"
      ]
     },
     "execution_count": 25,
     "metadata": {},
     "output_type": "execute_result"
    }
   ],
   "source": [
    "def add(x, y):  # x and y are parameters\n",
    "    return x + y\n",
    "add(5, 3)  # 5 and 3 are arguments"
   ]
  },
  {
   "cell_type": "raw",
   "id": "9a18071c-6e21-43d9-8661-03d7652dd6c3",
   "metadata": {},
   "source": [
    "3-What are the different ways to define and call a function in Python?\n",
    "ans-Define: Using def or lambda.\n",
    "   Call: By writing function name followed by parentheses."
   ]
  },
  {
   "cell_type": "code",
   "execution_count": 27,
   "id": "7e7d728a-5a4a-4e67-b456-b771ff297044",
   "metadata": {},
   "outputs": [
    {
     "name": "stdout",
     "output_type": "stream",
     "text": [
      "Hello\n"
     ]
    }
   ],
   "source": [
    "def say_hello(): \n",
    "    print(\"Hello\")\n",
    "say_hello()"
   ]
  },
  {
   "cell_type": "raw",
   "id": "23cc3e69-76c9-43a5-98d0-ab0756afdf3a",
   "metadata": {},
   "source": [
    "4.What is the purpose of the `return` statement in a Python function?\n",
    "ans- Returns a result from a function to the caller."
   ]
  },
  {
   "cell_type": "code",
   "execution_count": 28,
   "id": "003a138a-ebcb-4f02-8be4-6c0a82c2a929",
   "metadata": {},
   "outputs": [
    {
     "name": "stdout",
     "output_type": "stream",
     "text": [
      "16\n"
     ]
    }
   ],
   "source": [
    "def square(x): return x * x\n",
    "print(square(4))  # Output: 16"
   ]
  },
  {
   "cell_type": "raw",
   "id": "a7a9e07e-2f77-4bbc-82f0-9cf4b1615229",
   "metadata": {},
   "source": [
    "5- What are iterators in Python and how do they differ from iterables?\n",
    "ans-Iterable: Can be looped over (e.g., list, string).\n",
    "Iterator: Produces next item using __next__() and __iter__()."
   ]
  },
  {
   "cell_type": "code",
   "execution_count": 23,
   "id": "e11a44f3-7118-4c29-baae-70cb9e3d5eaf",
   "metadata": {},
   "outputs": [
    {
     "name": "stdout",
     "output_type": "stream",
     "text": [
      "1\n"
     ]
    }
   ],
   "source": [
    "nums = [1, 2, 3]      # Iterable\n",
    "it = iter(nums)       # Iterator\n",
    "print(next(it))       # Output: "
   ]
  },
  {
   "cell_type": "raw",
   "id": "69cf5375-9f13-43b4-8c94-5b6397a7ad1f",
   "metadata": {},
   "source": [
    "6-Explain the concept of generators in Python and how they are defined.\n",
    "ans- Special functions using yield to return items lazily (one by one)."
   ]
  },
  {
   "cell_type": "code",
   "execution_count": 31,
   "id": "6da3ae4e-069e-4ba5-8950-de8029c38311",
   "metadata": {},
   "outputs": [],
   "source": [
    "n=18\n",
    "def countdown(n):\n",
    "    while 18 > 0:\n",
    "        yield n\n",
    "        n=18"
   ]
  },
  {
   "cell_type": "raw",
   "id": "451239c3-a269-405f-8337-3b47c0b54842",
   "metadata": {},
   "source": [
    "7. What are the advantages of using generators over regular functions?\n",
    "ans- Memory efficient (no need to store entire sequence).\n",
    "Faster performance for large datasets.\n",
    "Example: Reading large files line by line using a generator."
   ]
  },
  {
   "cell_type": "raw",
   "id": "5d1b4698-9b16-4e2d-be4d-81e627e51238",
   "metadata": {},
   "source": [
    "8- What is a lambda function in Python and when is it typically used?\n",
    "ans- Anonymous one-line function.\n",
    "Syntax: lambda arguments: expression"
   ]
  },
  {
   "cell_type": "code",
   "execution_count": 32,
   "id": "2ccfb193-5694-4847-a5cc-886f66910e8d",
   "metadata": {},
   "outputs": [
    {
     "name": "stdout",
     "output_type": "stream",
     "text": [
      "25\n"
     ]
    }
   ],
   "source": [
    "square = lambda x: x * x\n",
    "print(square(5))  # Output: 25\n"
   ]
  },
  {
   "cell_type": "raw",
   "id": "7ee2a92c-b8da-433d-97ae-de12332e42e7",
   "metadata": {},
   "source": [
    "9-  Explain the purpose and usage of the `map()` function in Python?\n",
    "ans- Applies a function to all items in an iterable."
   ]
  },
  {
   "cell_type": "code",
   "execution_count": 33,
   "id": "4cab80e7-7f0b-4478-b0fe-c6e4747f965b",
   "metadata": {},
   "outputs": [],
   "source": [
    "nums = [1, 2, 3]\n",
    "result = list(map(lambda x: x*2, nums))  # [2, 4, 6]"
   ]
  },
  {
   "cell_type": "raw",
   "id": "58f1cc6f-506b-4e71-8aaf-cc50527a58e3",
   "metadata": {},
   "source": [
    "10- What is the difference between `map()`, `reduce()`, and `filter()` functions in Python?\n",
    "ans- map() - Applies a function to each item.\n",
    "filter()- Selects items that satisfy a condition.\n",
    "reduce() - Combines all items into a single value."
   ]
  },
  {
   "cell_type": "raw",
   "id": "f100546f-2d34-4e34-a427-dd72e134db54",
   "metadata": {},
   "source": [
    "11- Using pen & Paper write the internal mechanism for sum operation using  reduce function on this given\n",
    "list:[47,11,42,13]?\n",
    "ans- attached paper and pen write ans in google collab "
   ]
  },
  {
   "cell_type": "code",
   "execution_count": null,
   "id": "a288daa6-cd51-4614-93b3-1f843c48de1b",
   "metadata": {},
   "outputs": [],
   "source": [
    "                  ************************** P_R_A_C_T_I_C_A_L     Q_U_E_S_T_I_O_N ***********************************"
   ]
  },
  {
   "cell_type": "raw",
   "id": "92aa0c92-09b8-4ca0-8113-76dd57cfff9d",
   "metadata": {},
   "source": [
    "1. Write a Python function that takes a list of numbers as input and returns the sum of all even numbers in\n",
    "the list."
   ]
  },
  {
   "cell_type": "code",
   "execution_count": 4,
   "id": "5c047087-6bd2-495a-851a-1d94cf657f9f",
   "metadata": {},
   "outputs": [
    {
     "name": "stdout",
     "output_type": "stream",
     "text": [
      "Sum of even numbers: 62\n"
     ]
    }
   ],
   "source": [
    "numbers_list = [2, 20, 40, 45, 33, 55]\n",
    "result = sum_even_numbers(numbers_list)\n",
    "print(\"Sum of even numbers:\", result)"
   ]
  },
  {
   "cell_type": "raw",
   "id": "1da8755c-2af4-494f-8375-4ef8b97a9377",
   "metadata": {},
   "source": [
    "2- Create a Python function that accepts a string and returns the reverse of that string?"
   ]
  },
  {
   "cell_type": "code",
   "execution_count": 2,
   "id": "5d28f6c2-3e00-4982-8858-b735ccb992f4",
   "metadata": {},
   "outputs": [
    {
     "name": "stdout",
     "output_type": "stream",
     "text": [
      "Reversed string: matuag ihsaa si eman ym\n"
     ]
    }
   ],
   "source": [
    "input_string = \"my name is aashi gautam\"\n",
    "reversed_string = reverse_string(input_string)\n",
    "print(\"Reversed string:\", reversed_string)"
   ]
  },
  {
   "cell_type": "raw",
   "id": "9500bea9-f36f-4df0-9cb4-221969a94c40",
   "metadata": {},
   "source": [
    "3. Implement a Python function that takes a list of integers and returns a new list containing the squares of\n",
    "each number."
   ]
  },
  {
   "cell_type": "code",
   "execution_count": 10,
   "id": "c1fee9b0-04ab-4941-82df-d60b01803cd4",
   "metadata": {},
   "outputs": [
    {
     "name": "stdout",
     "output_type": "stream",
     "text": [
      "Squared numbers: [4, 16, 25, 36, 49, 324, 400]\n"
     ]
    }
   ],
   "source": [
    "numbers =[2,4,5,6,7,18,20]\n",
    "def square_numbers(numbers):\n",
    "    return [num ** 2 for num in numbers]\n",
    "# Calling the function\n",
    "result = square_numbers(numbers)\n",
    "print(\"Squared numbers:\", result)"
   ]
  },
  {
   "cell_type": "raw",
   "id": "e6230ee9-ba85-41fe-a9f9-cd49a8b8f230",
   "metadata": {},
   "source": [
    "4- Write a Python function that checks if a given number is prime or not from 1 to 200."
   ]
  },
  {
   "cell_type": "code",
   "execution_count": 14,
   "id": "0ff78dc6-6f8f-4e0c-a650-7ae951a9f141",
   "metadata": {},
   "outputs": [
    {
     "name": "stdout",
     "output_type": "stream",
     "text": [
      "[2, 3, 5, 7, 11, 13, 17, 19, 23, 29, 31, 37, 41, 43, 47, 53, 59, 61, 67, 71, 73, 79, 83, 89, 97, 101, 103, 107, 109, 113, 127, 131, 137, 139, 149, 151, 157, 163, 167, 173, 179, 181, 191, 193, 197, 199]\n"
     ]
    }
   ],
   "source": [
    "def is_prime(n):\n",
    "    if n <= 1:\n",
    "        return False\n",
    "    for i in range(2, int(n**0.5) + 1):\n",
    "        if n % i == 0:\n",
    "            return False\n",
    "    return True\n",
    "\n",
    "# Example Usage:\n",
    "primes = [num for num in range(1, 201) if is_prime(num)]\n",
    "print(primes)\n"
   ]
  },
  {
   "cell_type": "raw",
   "id": "d3033f78-e373-4201-a760-a6e89ff9b278",
   "metadata": {},
   "source": [
    "5-  Create an iterator class in Python that generates the Fibonacci sequence up to a specified number of\n",
    "terms."
   ]
  },
  {
   "cell_type": "code",
   "execution_count": 17,
   "id": "ce71bc64-c635-4b1f-aa32-90d65369d57d",
   "metadata": {},
   "outputs": [
    {
     "name": "stdout",
     "output_type": "stream",
     "text": [
      "0 1 1 1 2 3 5 8 13 21 "
     ]
    }
   ],
   "source": [
    "class FibonacciIterator:\n",
    "    def __init__(self, terms):\n",
    "        self.terms = terms\n",
    "        self.count = 0\n",
    "        self.a, self.b = 0, 1\n",
    "\n",
    "    def __iter__(self):\n",
    "        return self\n",
    "\n",
    "    def __next__(self):\n",
    "        if self.count >= self.terms:\n",
    "            raise StopIteration\n",
    "        if self.count == 0:\n",
    "            self.count += 1\n",
    "            return self.a\n",
    "        elif self.count == 1:\n",
    "            self.count += 1\n",
    "            return self.b\n",
    "        else:\n",
    "            self.a, self.b = self.b, self.a + self.b\n",
    "            self.count += 1\n",
    "            return self.a\n",
    "\n",
    "# Example Usage:\n",
    "fib = FibonacciIterator(10)  # generate 10 terms\n",
    "for num in fib:\n",
    "    print(num, end=\" \")\n"
   ]
  },
  {
   "cell_type": "raw",
   "id": "76aa072e-85d2-49f3-80fc-c3a53479e988",
   "metadata": {},
   "source": [
    "6- Write a generator function in Python that yields the powers of 2 up to a given exponent."
   ]
  },
  {
   "cell_type": "code",
   "execution_count": 18,
   "id": "f3e9fbb5-d111-4ad0-afb8-e14fd521e139",
   "metadata": {},
   "outputs": [
    {
     "name": "stdout",
     "output_type": "stream",
     "text": [
      "1\n",
      "2\n",
      "4\n",
      "8\n",
      "16\n",
      "32\n"
     ]
    }
   ],
   "source": [
    "def powers_of_two(max_exponent):\n",
    "    for exponent in range(max_exponent + 1):\n",
    "        yield 2 ** exponent\n",
    "\n",
    "# Direct call\n",
    "for value in powers_of_two(5):\n",
    "    print(value)"
   ]
  },
  {
   "cell_type": "raw",
   "id": "671272b5-5624-4d4f-9019-83dd7bf005bf",
   "metadata": {},
   "source": [
    "7- Implement a generator function that reads a file line by line and yields each line as a string."
   ]
  },
  {
   "cell_type": "code",
   "execution_count": 19,
   "id": "e7312bfd-b25b-4ab3-906c-4d2250b06367",
   "metadata": {},
   "outputs": [
    {
     "name": "stdout",
     "output_type": "stream",
     "text": [
      "First line\n",
      "Second line\n",
      "Third line\n"
     ]
    }
   ],
   "source": [
    "def read_file_line_by_line(filename):\n",
    "    with open(filename, 'r') as file:\n",
    "        for line in file:\n",
    "            yield line.strip()\n",
    "\n",
    "# Creating a sample file\n",
    "with open('sample.txt', 'w') as f:\n",
    "    f.write(\"First line\\nSecond line\\nThird line\")\n",
    "\n",
    "# Direct call\n",
    "for line in read_file_line_by_line('sample.txt'):\n",
    "    print(line)"
   ]
  },
  {
   "cell_type": "raw",
   "id": "5393df3b-05f3-4b6a-b8aa-23e533a43f6b",
   "metadata": {},
   "source": [
    "8- Use a lambda function in Python to sort a list of tuples based on the second element of each tuple."
   ]
  },
  {
   "cell_type": "code",
   "execution_count": 20,
   "id": "d40d5f28-c2ab-42f1-8061-d90761f96759",
   "metadata": {},
   "outputs": [
    {
     "name": "stdout",
     "output_type": "stream",
     "text": [
      "[(4, 1), (2, 3), (3, 4), (1, 5)]\n"
     ]
    }
   ],
   "source": [
    "sample_list = [(1, 5), (2, 3), (4, 1), (3, 4)]\n",
    "sorted_list = sorted(sample_list, key=lambda x: x[1])\n",
    "\n",
    "print(sorted_list)"
   ]
  },
  {
   "cell_type": "raw",
   "id": "2d283e2c-2cc3-4e6c-9e08-945b0360bceb",
   "metadata": {},
   "source": [
    "9- Write a Python program that uses map() to convert a list of temperatures from Celsius to Fahrenheit."
   ]
  },
  {
   "cell_type": "code",
   "execution_count": 21,
   "id": "32e77f8e-10fd-48f0-bb0b-41a9eda23487",
   "metadata": {},
   "outputs": [
    {
     "name": "stdout",
     "output_type": "stream",
     "text": [
      "[32.0, 68.0, 86.0, 104.0]\n"
     ]
    }
   ],
   "source": [
    "def celsius_to_fahrenheit(c):\n",
    "    return (c * 9/5) + 32\n",
    "\n",
    "celsius_temps = [0, 20, 30, 40]\n",
    "fahrenheit_temps = list(map(celsius_to_fahrenheit, celsius_temps))\n",
    "\n",
    "print(fahrenheit_temps)"
   ]
  },
  {
   "cell_type": "raw",
   "id": "036d54fd-2b50-4a2a-97ef-928ff782ab61",
   "metadata": {},
   "source": [
    "10- Create a Python program that uses filter() to remove all the vowels from a given string."
   ]
  },
  {
   "cell_type": "code",
   "execution_count": 22,
   "id": "6f4f62fb-4601-404a-8804-142a0012d9f5",
   "metadata": {},
   "outputs": [
    {
     "name": "stdout",
     "output_type": "stream",
     "text": [
      "Dt Scnc wth Gnrtv \n"
     ]
    }
   ],
   "source": [
    "def remove_vowels(input_string):\n",
    "    vowels = 'aeiouAEIOU'\n",
    "    return ''.join(filter(lambda char: char not in vowels, input_string))\n",
    "\n",
    "text = \"Data Science with Generative AI\"\n",
    "filtered_text = remove_vowels(text)\n",
    "\n",
    "print(filtered_text)\n"
   ]
  },
  {
   "cell_type": "raw",
   "id": "699ee763-682d-4572-9e3d-83d3c679e924",
   "metadata": {},
   "source": [
    "11- "
   ]
  }
 ],
 "metadata": {
  "kernelspec": {
   "display_name": "Python 3 (ipykernel)",
   "language": "python",
   "name": "python3"
  },
  "language_info": {
   "codemirror_mode": {
    "name": "ipython",
    "version": 3
   },
   "file_extension": ".py",
   "mimetype": "text/x-python",
   "name": "python",
   "nbconvert_exporter": "python",
   "pygments_lexer": "ipython3",
   "version": "3.12.7"
  }
 },
 "nbformat": 4,
 "nbformat_minor": 5
}
